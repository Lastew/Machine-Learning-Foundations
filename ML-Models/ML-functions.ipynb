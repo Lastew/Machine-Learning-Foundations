{
 "cells": [
  {
   "cell_type": "code",
   "execution_count": 24,
   "metadata": {
    "ExecuteTime": {
     "end_time": "2020-03-02T17:19:01.777887Z",
     "start_time": "2020-03-02T17:19:01.773626Z"
    }
   },
   "outputs": [],
   "source": [
    "lst = [1,2,3,2,1,5,6,5,5,5]"
   ]
  },
  {
   "cell_type": "markdown",
   "metadata": {},
   "source": [
    "### using collections"
   ]
  },
  {
   "cell_type": "code",
   "execution_count": 41,
   "metadata": {
    "ExecuteTime": {
     "end_time": "2020-03-02T17:26:07.897054Z",
     "start_time": "2020-03-02T17:26:07.886219Z"
    }
   },
   "outputs": [
    {
     "data": {
      "text/plain": [
       "[1, 2, 5]"
      ]
     },
     "execution_count": 41,
     "metadata": {},
     "output_type": "execute_result"
    }
   ],
   "source": [
    "import collections\n",
    "dup = [item for item, count in collections.Counter(lst).items() if count>1]\n",
    "dup"
   ]
  },
  {
   "cell_type": "markdown",
   "metadata": {},
   "source": [
    "### Using for loop "
   ]
  },
  {
   "cell_type": "code",
   "execution_count": 42,
   "metadata": {
    "ExecuteTime": {
     "end_time": "2020-03-02T17:26:10.210683Z",
     "start_time": "2020-03-02T17:26:10.199872Z"
    }
   },
   "outputs": [
    {
     "data": {
      "text/plain": [
       "{1, 2, 5}"
      ]
     },
     "execution_count": 42,
     "metadata": {},
     "output_type": "execute_result"
    }
   ],
   "source": [
    "duplicates = set([item for item in lst if lst.count(item) > 1])\n",
    "duplicates\n",
    "\n",
    "# alternative\n",
    "# duplicates = []\n",
    "# for item in lst:\n",
    "#     if lst.count(item) > 1:\n",
    "#         duplicates.append(item)\n",
    "#         duplicates_set = set(duplicates)\n",
    "# print(duplicates_set)"
   ]
  },
  {
   "cell_type": "markdown",
   "metadata": {},
   "source": [
    "### Using dictionary"
   ]
  },
  {
   "cell_type": "code",
   "execution_count": 44,
   "metadata": {
    "ExecuteTime": {
     "end_time": "2020-03-02T17:26:39.436989Z",
     "start_time": "2020-03-02T17:26:39.426705Z"
    }
   },
   "outputs": [
    {
     "data": {
      "text/plain": [
       "{1: 2, 2: 2, 3: 1, 5: 4, 6: 1}"
      ]
     },
     "execution_count": 44,
     "metadata": {},
     "output_type": "execute_result"
    }
   ],
   "source": [
    "dups = dict()\n",
    "for i in lst:\n",
    "    if i not in dups:\n",
    "        dups[i] = 1\n",
    "    else:\n",
    "        dups[i] += 1\n",
    "dups"
   ]
  },
  {
   "cell_type": "code",
   "execution_count": 55,
   "metadata": {
    "ExecuteTime": {
     "end_time": "2020-03-02T17:37:50.783768Z",
     "start_time": "2020-03-02T17:37:50.772882Z"
    }
   },
   "outputs": [],
   "source": [
    "def duplicatesAre(lst):\n",
    "    duplicated = set([item for item in lst if lst.count(item) > 1])\n",
    "    return duplicated"
   ]
  },
  {
   "cell_type": "code",
   "execution_count": 56,
   "metadata": {
    "ExecuteTime": {
     "end_time": "2020-03-02T17:37:51.124092Z",
     "start_time": "2020-03-02T17:37:51.114672Z"
    }
   },
   "outputs": [
    {
     "data": {
      "text/plain": [
       "{'Ok', 'is', 'test'}"
      ]
     },
     "execution_count": 56,
     "metadata": {},
     "output_type": "execute_result"
    }
   ],
   "source": [
    "listOfElems = ['Hello', 'Ok', 'is', 'Ok', 'test', 'this', 'is', 'a', 'test']\n",
    "duplicatesAre(listOfElems)"
   ]
  },
  {
   "cell_type": "code",
   "execution_count": null,
   "metadata": {},
   "outputs": [],
   "source": []
  }
 ],
 "metadata": {
  "kernelspec": {
   "display_name": "learn-env",
   "language": "python",
   "name": "learn-env"
  },
  "language_info": {
   "codemirror_mode": {
    "name": "ipython",
    "version": 3
   },
   "file_extension": ".py",
   "mimetype": "text/x-python",
   "name": "python",
   "nbconvert_exporter": "python",
   "pygments_lexer": "ipython3",
   "version": "3.6.6"
  },
  "toc": {
   "base_numbering": 1,
   "nav_menu": {},
   "number_sections": true,
   "sideBar": true,
   "skip_h1_title": false,
   "title_cell": "Table of Contents",
   "title_sidebar": "Contents",
   "toc_cell": false,
   "toc_position": {},
   "toc_section_display": true,
   "toc_window_display": false
  }
 },
 "nbformat": 4,
 "nbformat_minor": 2
}
