{
 "cells": [
  {
   "cell_type": "code",
   "execution_count": 31,
   "metadata": {
    "ExecuteTime": {
     "end_time": "2020-03-04T02:45:17.495971Z",
     "start_time": "2020-03-04T02:45:17.485732Z"
    }
   },
   "outputs": [
    {
     "name": "stdout",
     "output_type": "stream",
     "text": [
      "False\n",
      "True\n"
     ]
    }
   ],
   "source": [
    "negative = False\n",
    "print(negative)\n",
    "postive = not negative\n",
    "print(postive)"
   ]
  },
  {
   "cell_type": "markdown",
   "metadata": {},
   "source": [
    "% gives the reminder  \n",
    "// discard the reminder and give the result "
   ]
  },
  {
   "cell_type": "code",
   "execution_count": 32,
   "metadata": {
    "ExecuteTime": {
     "end_time": "2020-03-04T02:45:18.867191Z",
     "start_time": "2020-03-04T02:45:18.860466Z"
    }
   },
   "outputs": [
    {
     "name": "stdout",
     "output_type": "stream",
     "text": [
      "7\n",
      "1\n"
     ]
    }
   ],
   "source": [
    "print(15//2)\n",
    "print(15%2)"
   ]
  },
  {
   "cell_type": "markdown",
   "metadata": {},
   "source": [
    "## Collections\n",
    "1. Tuples \n",
    "2. List and list operations\n",
    "3. Dictionaries"
   ]
  },
  {
   "cell_type": "code",
   "execution_count": 38,
   "metadata": {
    "ExecuteTime": {
     "end_time": "2020-03-04T03:10:25.344146Z",
     "start_time": "2020-03-04T03:10:25.316225Z"
    }
   },
   "outputs": [
    {
     "name": "stdout",
     "output_type": "stream",
     "text": [
      "[1, 2, 3, 4, 5, 6]\n",
      "[1, 2, 3, 4, 6]\n",
      "[1, 3, 4, 6]\n",
      "[1, 3, 4, 6, 7]\n",
      "[1, 3, 1, 4, 6, 7]\n"
     ]
    }
   ],
   "source": [
    "lst = [1,2,3,4,5,6]\n",
    "print(lst)\n",
    "lst.remove(5)\n",
    "print(lst)\n",
    "lst.pop(1)\n",
    "print(lst)\n",
    "lst.append(7)\n",
    "print(lst)\n",
    "lst.insert(2,1)\n",
    "print(lst)"
   ]
  },
  {
   "cell_type": "code",
   "execution_count": 39,
   "metadata": {
    "ExecuteTime": {
     "end_time": "2020-03-04T05:30:50.991544Z",
     "start_time": "2020-03-04T05:30:50.975988Z"
    }
   },
   "outputs": [],
   "source": [
    "name_dict = {'sis':'filate', 'gbb':'nge', 'abel':'bezabeh'}"
   ]
  },
  {
   "cell_type": "code",
   "execution_count": 48,
   "metadata": {
    "ExecuteTime": {
     "end_time": "2020-03-04T05:34:34.013534Z",
     "start_time": "2020-03-04T05:34:34.005528Z"
    }
   },
   "outputs": [
    {
     "name": "stdout",
     "output_type": "stream",
     "text": [
      "dict_keys(['sis', 'gbb', 'abel'])\n",
      "dict_values(['filate', 'nge', 'bezabeh'])\n",
      "dict_items([('sis', 'filate'), ('gbb', 'nge'), ('abel', 'bezabeh')])\n",
      "filate\n",
      "filate\n"
     ]
    }
   ],
   "source": [
    "print(name_dict.keys())\n",
    "print(name_dict.values())\n",
    "print(name_dict.items())\n",
    "print(name_dict.get('sis'))\n",
    "print(name_dict['sis'])"
   ]
  },
  {
   "cell_type": "markdown",
   "metadata": {},
   "source": [
    "## If Statement\n",
    "```python\n",
    "if condition == True:\n",
    "    execute code block here\n",
    "```"
   ]
  },
  {
   "cell_type": "markdown",
   "metadata": {},
   "source": [
    "## While and For In Loops \n",
    "```python \n",
    "for element in lst:\n",
    "    print(element)\n",
    "```"
   ]
  },
  {
   "cell_type": "markdown",
   "metadata": {},
   "source": [
    "## Function Implementation and Execution\n",
    "functions without parameters or return values\n",
    "```python \n",
    "def name():\n",
    "    function body \n",
    "```"
   ]
  },
  {
   "cell_type": "code",
   "execution_count": 51,
   "metadata": {
    "ExecuteTime": {
     "end_time": "2020-03-04T23:03:07.032559Z",
     "start_time": "2020-03-04T23:03:07.019806Z"
    }
   },
   "outputs": [
    {
     "name": "stdout",
     "output_type": "stream",
     "text": [
      "Hulk is getting angrier\n",
      "Hulk is getting angrier\n",
      "Hulk is getting angrier\n",
      "0.9999999999999999\n",
      "True\n"
     ]
    }
   ],
   "source": [
    "range_factor = 0.7\n",
    "is_in_hulk_form = False\n",
    "\n",
    "def increase_range():\n",
    "    global range_factor \n",
    "    global is_in_hulk_form\n",
    "    range_factor += 0.1\n",
    "    if range_factor > 0.9:\n",
    "        is_in_hulk_form = True\n",
    "    print(\"Hulk is getting angrier\")\n",
    "        \n",
    "increase_range()\n",
    "increase_range()\n",
    "increase_range()\n",
    "print(range_factor)\n",
    "print(is_in_hulk_form)"
   ]
  },
  {
   "cell_type": "markdown",
   "metadata": {},
   "source": [
    "## Parameters and Return Values"
   ]
  },
  {
   "cell_type": "markdown",
   "metadata": {},
   "source": [
    "## Class and Objects\n",
    "an object is an entity in the code that maintain it track or state and has certain behavior(method).\n"
   ]
  },
  {
   "cell_type": "code",
   "execution_count": 75,
   "metadata": {
    "ExecuteTime": {
     "end_time": "2020-03-05T04:37:50.069251Z",
     "start_time": "2020-03-05T04:37:50.063503Z"
    }
   },
   "outputs": [],
   "source": [
    "class SuperHero:\n",
    "    \n",
    "    team = 'Avengers'\n",
    "    \n",
    "    def __init__(self, name, health):\n",
    "        self.name = name \n",
    "        self.health = health\n",
    "        \n",
    "    def take_damage(self, amount):\n",
    "        self.health = amount    "
   ]
  },
  {
   "cell_type": "code",
   "execution_count": 82,
   "metadata": {
    "ExecuteTime": {
     "end_time": "2020-03-05T04:56:03.046736Z",
     "start_time": "2020-03-05T04:56:03.033150Z"
    }
   },
   "outputs": [
    {
     "name": "stdout",
     "output_type": "stream",
     "text": [
      "Avengers\n",
      "sis\n",
      "40\n"
     ]
    },
    {
     "data": {
      "text/plain": [
       "20"
      ]
     },
     "execution_count": 82,
     "metadata": {},
     "output_type": "execute_result"
    }
   ],
   "source": [
    "inst = SuperHero('sis', 40)\n",
    "print(inst.team)\n",
    "print(inst.name)\n",
    "print(inst.health)\n",
    "inst.take_damage(20)\n",
    "inst.health"
   ]
  },
  {
   "cell_type": "markdown",
   "metadata": {
    "ExecuteTime": {
     "end_time": "2020-03-05T04:37:52.690294Z",
     "start_time": "2020-03-05T04:37:52.683371Z"
    }
   },
   "source": [
    "## Subclasses and Superclasses"
   ]
  },
  {
   "cell_type": "code",
   "execution_count": null,
   "metadata": {},
   "outputs": [],
   "source": []
  }
 ],
 "metadata": {
  "kernelspec": {
   "display_name": "Python 3",
   "language": "python",
   "name": "python3"
  },
  "language_info": {
   "codemirror_mode": {
    "name": "ipython",
    "version": 3
   },
   "file_extension": ".py",
   "mimetype": "text/x-python",
   "name": "python",
   "nbconvert_exporter": "python",
   "pygments_lexer": "ipython3",
   "version": "3.7.3"
  },
  "toc": {
   "base_numbering": 1,
   "nav_menu": {},
   "number_sections": true,
   "sideBar": true,
   "skip_h1_title": false,
   "title_cell": "Table of Contents",
   "title_sidebar": "Contents",
   "toc_cell": false,
   "toc_position": {},
   "toc_section_display": true,
   "toc_window_display": false
  }
 },
 "nbformat": 4,
 "nbformat_minor": 2
}
